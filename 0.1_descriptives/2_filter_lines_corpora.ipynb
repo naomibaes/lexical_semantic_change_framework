{
 "cells": [
  {
   "cell_type": "markdown",
   "metadata": {},
   "source": [
    "**Author**: Naomi Baes and Chat GPT\n",
    "\n",
    "**Purpose**: This script filters corpora (abstracts and text articles) to extract lines containing specific target terms related to mental health, etc\n",
    "\n",
    "**Note**: Output example for filter_lines(): \n",
    "    # mental_illness.context.cohacoca \"\" How does one feed into the other ? \" \" Can we define the essential elements of each of the arts ? \" \" What of these elements are accessible to young children ? \" We also need to assess our current early childhood art activities and determine their validity for young children within the arts . Are the arts being used simply as a vehicle to achieve goals outside of the arts themselves ? Or are children being helped to understand the aesthetic qualities of their world ? And are children being helped to understand the nature of artistic expression and to use media in more meaningful ways from an artistic point of view ? When these latter questions can be answered affirmatively , then we are providing children with educationally worthwhile art experiences in their early childhood education programs . ||||| 1993 ||||| nf ||||| 746761\"\n",
    "    # mental_illness.context.psych \" complex scientific age. For myself, I have no doubt that religion can provide many of the positive elements of good mental_health, and I believe that this concept will grow to full maturity in the years ahead. ||||| 1965 ||||| Pastoral Psychology ||||| Pastoral Psychology \""
   ]
  },
  {
   "cell_type": "code",
   "execution_count": 5,
   "metadata": {},
   "outputs": [],
   "source": [
    "# Setup\n",
    "\n",
    "import re\n",
    "import os\n",
    "\n",
    "# List of input files for different datasets\n",
    "input_files = [\n",
    "    \"C:/Users/naomi/OneDrive/COMP80004_PhDResearch/RESEARCH/DATA/CORPORA/COHACOCA/coha.coca.cleaned2.mental\",\n",
    "    \"C:/Users/naomi/OneDrive/COMP80004_PhDResearch/RESEARCH/DATA/CORPORA/Psychology/abstract_year_journal.csv.mental\"\n",
    "]\n",
    "\n",
    "# Specify target terms for filtering\n",
    "target_terms = [\"mental_health\", \"mental_illness\", \"perception\"]"
   ]
  },
  {
   "cell_type": "code",
   "execution_count": 6,
   "metadata": {},
   "outputs": [],
   "source": [
    "def filter_lines(input_file, target_terms, corpus):\n",
    "    output_dir = \"output\"\n",
    "    os.makedirs(output_dir, exist_ok=True)\n",
    "    \n",
    "    print(f\"Processing {input_file} for target terms: {target_terms} and corpus: {corpus}\")\n",
    "    \n",
    "    for target_term in target_terms:\n",
    "        output_file = os.path.join(output_dir, f\"{target_term}.lines.{corpus}\")\n",
    "\n",
    "        # Create a regular expression pattern to match the target term (case-insensitive)\n",
    "        pattern = re.compile(r'\\b' + re.escape(target_term) + r'\\b', flags=re.IGNORECASE)\n",
    "\n",
    "        # Initialize lines_written counter\n",
    "        lines_written = 0\n",
    "\n",
    "        # Open input and output files\n",
    "        with open(input_file, \"r\", encoding=\"utf-8\") as infile, open(output_file, \"w\", encoding=\"utf-8\") as outfile:\n",
    "            # Iterate over each line in the input file\n",
    "            for line in infile:\n",
    "                if re.search(pattern, line):\n",
    "                    outfile.write(line)  # Write the line to the output file\n",
    "                    lines_written += 1  # Increment the lines_written counter\n",
    "            \n",
    "            # Print summary of lines written for the current target term\n",
    "            print(f\"    Lines containing '{target_term}' written to: {output_file} ({lines_written} lines)\")"
   ]
  },
  {
   "cell_type": "code",
   "execution_count": 7,
   "metadata": {},
   "outputs": [
    {
     "name": "stdout",
     "output_type": "stream",
     "text": [
      "Processing C:/Users/naomi/OneDrive/COMP80004_PhDResearch/RESEARCH/DATA/CORPORA/COHACOCA/coha.coca.cleaned2.mental for target terms: ['mental_health', 'mental_illness', 'perception'] and corpus: cohacoca\n",
      "    Lines containing 'mental_health' written to: output\\mental_health.lines.cohacoca (3604 lines)\n",
      "    Lines containing 'mental_illness' written to: output\\mental_illness.lines.cohacoca (1721 lines)\n",
      "    Lines containing 'perception' written to: output\\perception.lines.cohacoca (11371 lines)\n",
      "Processing C:/Users/naomi/OneDrive/COMP80004_PhDResearch/RESEARCH/DATA/CORPORA/Psychology/abstract_year_journal.csv.mental for target terms: ['mental_health', 'mental_illness', 'perception'] and corpus: psych\n",
      "    Lines containing 'mental_health' written to: output\\mental_health.lines.psych (26274 lines)\n",
      "    Lines containing 'mental_illness' written to: output\\mental_illness.lines.psych (3873 lines)\n",
      "    Lines containing 'perception' written to: output\\perception.lines.psych (38614 lines)\n",
      "Filtering completed.\n"
     ]
    }
   ],
   "source": [
    "# Process each input file for different target terms and corpora\n",
    "for input_file in input_files:\n",
    "    if 'COHACOCA' in input_file:\n",
    "        corpus = 'cohacoca'\n",
    "    elif 'Psychology' in input_file:\n",
    "        corpus = 'psych'\n",
    "    else:\n",
    "        corpus = 'unknown'  # Handle unknown corpus\n",
    "    \n",
    "    # Call function\n",
    "    filter_lines(input_file, target_terms, corpus)\n",
    "\n",
    "print(\"Filtering completed.\")"
   ]
  }
 ],
 "metadata": {
  "kernelspec": {
   "display_name": "base",
   "language": "python",
   "name": "python3"
  },
  "language_info": {
   "codemirror_mode": {
    "name": "ipython",
    "version": 3
   },
   "file_extension": ".py",
   "mimetype": "text/x-python",
   "name": "python",
   "nbconvert_exporter": "python",
   "pygments_lexer": "ipython3",
   "version": "3.11.4"
  }
 },
 "nbformat": 4,
 "nbformat_minor": 2
}
