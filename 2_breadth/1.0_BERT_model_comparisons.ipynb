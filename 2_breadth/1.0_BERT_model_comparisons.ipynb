{
  "cells": [
    {
      "cell_type": "markdown",
      "metadata": {},
      "source": [
        "Notebook purpose: Understand SBERT and extract sentence similarity embeddings of various SBERT models to select the best model for the semantic similarity task\n",
        "\n",
        "Author: Naomi Baes following tutorial: https://www.pinecone.io/learn/series/nlp/sentence-embeddings/ \n",
        "IDE: Visual Studio Code\n",
        "Python version: 3.11.8\n",
        "Environment: .conda"
      ]
    },
    {
      "cell_type": "markdown",
      "metadata": {},
      "source": [
        "# Sentences"
      ]
    },
    {
      "cell_type": "code",
      "execution_count": 63,
      "metadata": {
        "id": "WlWX3jqe1G-E"
      },
      "outputs": [],
      "source": [
        "sentences = [\n",
        "    \"She has been seen at a mental_health facility since 1983 .\", # cohacoca 2015-2019\n",
        "    \"I didn't want to believe I had any mental_health issues and went into denial .\", # cohacoca 2015-2019\n",
        "    \"The burden of mental_illness concentrates in 5-10 of the adolescent population.\", # psych 2015-2019\n",
        "    \"Their rates of mental_illness are almost twice that of religious adolescents raised in religious households.\", # psych 2015-2019\n",
        "    \"Stigma against people with mental_illness is a very complex public health problem.\", # psych 2015-2019\n",
        "    \"Stigma associated with mental_illness is one of the major impediments in evolving effective treatment interventions to address the burden associated with these disorders.\", # psych 2015-2019\n",
        "    \"Anorexia is a killer it has the highest mortality rate of any mental_illness , including depression .\" # cohacoca 2005-2009\n",
        "]"
      ]
    },
    {
      "cell_type": "code",
      "execution_count": 64,
      "metadata": {
        "id": "zdnwQW_Pb6zM"
      },
      "outputs": [],
      "source": [
        "#pip install sentence-transformers"
      ]
    },
    {
      "cell_type": "markdown",
      "metadata": {},
      "source": [
        "# Load model: all-MiniLM-L6-v2"
      ]
    },
    {
      "cell_type": "code",
      "execution_count": 65,
      "metadata": {},
      "outputs": [
        {
          "data": {
            "text/plain": [
              "SentenceTransformer(\n",
              "  (0): Transformer({'max_seq_length': 256, 'do_lower_case': False}) with Transformer model: BertModel \n",
              "  (1): Pooling({'word_embedding_dimension': 384, 'pooling_mode_cls_token': False, 'pooling_mode_mean_tokens': True, 'pooling_mode_max_tokens': False, 'pooling_mode_mean_sqrt_len_tokens': False, 'pooling_mode_weightedmean_tokens': False, 'pooling_mode_lasttoken': False, 'include_prompt': True})\n",
              "  (2): Normalize()\n",
              ")"
            ]
          },
          "execution_count": 65,
          "metadata": {},
          "output_type": "execute_result"
        }
      ],
      "source": [
        "from sentence_transformers import SentenceTransformer\n",
        "\n",
        "# url = sbert.net\n",
        "model = SentenceTransformer('all-MiniLM-L6-v2') # initialize a sentence transformer with model name; go to sbert.net to select model\n",
        "model # should have transformer model and pooling layer"
      ]
    },
    {
      "cell_type": "code",
      "execution_count": 66,
      "metadata": {},
      "outputs": [
        {
          "data": {
            "text/plain": [
              "array([[ 2.6536558e-02,  9.9692633e-03, -2.2955146e-02, ...,\n",
              "        -4.4430204e-02,  4.1934098e-03,  1.1608009e-02],\n",
              "       [ 6.8381667e-02,  5.6270596e-02,  1.9821400e-02, ...,\n",
              "        -1.9793548e-02, -6.0877535e-02, -5.7746540e-03],\n",
              "       [ 6.7978360e-02,  4.3710589e-02, -1.7492697e-02, ...,\n",
              "         3.4593757e-02,  4.0631103e-03,  5.1565319e-03],\n",
              "       ...,\n",
              "       [ 1.4010225e-01,  6.1761145e-02, -2.2424107e-02, ...,\n",
              "        -1.2442442e-02, -1.9941617e-02,  2.4172736e-02],\n",
              "       [ 4.8395887e-02,  2.9399838e-02,  3.3134013e-02, ...,\n",
              "        -4.3034088e-05,  1.5402819e-02,  2.4742691e-02],\n",
              "       [ 7.0450619e-02, -4.0334344e-02, -4.9871925e-02, ...,\n",
              "         3.1246729e-02,  9.5653631e-02,  4.1434273e-02]], dtype=float32)"
            ]
          },
          "execution_count": 66,
          "metadata": {},
          "output_type": "execute_result"
        }
      ],
      "source": [
        "embeddings = model.encode(sentences)\n",
        "embeddings # each one represents a sentence; 678 dimensions"
      ]
    },
    {
      "cell_type": "markdown",
      "metadata": {},
      "source": [
        "Semantic Textual Similarity (STS) - using cosine similarity function and numpy"
      ]
    },
    {
      "cell_type": "code",
      "execution_count": 67,
      "metadata": {},
      "outputs": [
        {
          "data": {
            "text/plain": [
              "array([[1.00000012, 0.        , 0.        , 0.        , 0.        ,\n",
              "        0.        , 0.        ],\n",
              "       [0.33233011, 1.        , 0.        , 0.        , 0.        ,\n",
              "        0.        , 0.        ],\n",
              "       [0.38193712, 0.39976662, 1.        , 0.        , 0.        ,\n",
              "        0.        , 0.        ],\n",
              "       [0.35637474, 0.35237163, 0.63444644, 1.00000024, 0.        ,\n",
              "        0.        , 0.        ],\n",
              "       [0.4244678 , 0.46326289, 0.56310022, 0.49523413, 1.00000012,\n",
              "        0.        , 0.        ],\n",
              "       [0.3788653 , 0.48473001, 0.6029619 , 0.44223619, 0.75642246,\n",
              "        1.        , 0.        ],\n",
              "       [0.33246461, 0.32631633, 0.4352043 , 0.37503484, 0.41741908,\n",
              "        0.40306342, 1.00000024]])"
            ]
          },
          "execution_count": 67,
          "metadata": {},
          "output_type": "execute_result"
        }
      ],
      "source": [
        "import numpy as np\n",
        "from sentence_transformers.util import cos_sim\n",
        "\n",
        "# loop over all sentence embeddings we produced and compare them\n",
        "\n",
        "# Initialize a similarity matrix\n",
        "sim = np.zeros((len(sentences), len(sentences)))\n",
        "\n",
        "for i in range(len(sentences)):\n",
        "  sim[i:, i] = cos_sim(embeddings[i], embeddings[i:]) # populates our similarity array\n",
        "\n",
        "sim"
      ]
    },
    {
      "cell_type": "code",
      "execution_count": 68,
      "metadata": {},
      "outputs": [
        {
          "data": {
            "text/plain": [
              "<Axes: >"
            ]
          },
          "execution_count": 68,
          "metadata": {},
          "output_type": "execute_result"
        },
        {
          "data": {
            "image/png": "[encoded data removed]",
            "text/plain": [
              "<Figure size 640x480 with 2 Axes>"
            ]
          },
          "metadata": {},
          "output_type": "display_data"
        }
      ],
      "source": [
        "#!pip install matplotlib\n",
        "#!pip install seaborn\n",
        "\n",
        "import matplotlib.pyplot as plt\n",
        "import seaborn as sns\n",
        "\n",
        "sns.heatmap(sim, annot=True) # Visual array; can see that the sentence values/positions align with the sentences; most similar pair will be high cosine sim"
      ]
    },
    {
      "cell_type": "code",
      "execution_count": 69,
      "metadata": {},
      "outputs": [
        {
          "data": {
            "text/plain": [
              "['She has been seen at a mental_health facility since 1983 .',\n",
              " \"I didn't want to believe I had any mental_health issues and went into denial .\",\n",
              " 'The burden of mental_illness concentrates in 5-10 of the adolescent population.',\n",
              " 'Their rates of mental_illness are almost twice that of religious adolescents raised in religious households.',\n",
              " 'Stigma against people with mental_illness is a very complex public health problem.',\n",
              " 'Stigma associated with mental_illness is one of the major impediments in evolving effective treatment interventions to address the burden associated with these disorders.',\n",
              " 'Anorexia is a killer it has the highest mortality rate of any mental_illness , including depression .']"
            ]
          },
          "execution_count": 69,
          "metadata": {},
          "output_type": "execute_result"
        }
      ],
      "source": [
        "sentences"
      ]
    },
    {
      "cell_type": "markdown",
      "metadata": {
        "id": "4M9Zq9oH_NR6"
      },
      "source": [
        "# Load model: all-distilroberta-v1 "
      ]
    },
    {
      "cell_type": "code",
      "execution_count": 70,
      "metadata": {
        "colab": {
          "base_uri": "https://localhost:8080/",
          "height": 651
        },
        "id": "fDWS8rDOyWV2",
        "outputId": "a8dd5411-e525-4ed9-d1f8-6ad094544908"
      },
      "outputs": [
        {
          "data": {
            "text/plain": [
              "SentenceTransformer(\n",
              "  (0): Transformer({'max_seq_length': 512, 'do_lower_case': False}) with Transformer model: RobertaModel \n",
              "  (1): Pooling({'word_embedding_dimension': 768, 'pooling_mode_cls_token': False, 'pooling_mode_mean_tokens': True, 'pooling_mode_max_tokens': False, 'pooling_mode_mean_sqrt_len_tokens': False, 'pooling_mode_weightedmean_tokens': False, 'pooling_mode_lasttoken': False, 'include_prompt': True})\n",
              "  (2): Normalize()\n",
              ")"
            ]
          },
          "execution_count": 70,
          "metadata": {},
          "output_type": "execute_result"
        }
      ],
      "source": [
        "from sentence_transformers import SentenceTransformer\n",
        "\n",
        "# url = sbert.net\n",
        "model = SentenceTransformer('all-distilroberta-v1') # initialize a sentence transformer with model name; go to sbert.net to select model\n",
        "model # should have transformer model and pooling layer"
      ]
    },
    {
      "cell_type": "code",
      "execution_count": 71,
      "metadata": {
        "id": "pQQ3-hMO1Y5C"
      },
      "outputs": [
        {
          "data": {
            "text/plain": [
              "array([[ 0.00395244,  0.00978314,  0.00911307, ..., -0.01554296,\n",
              "         0.02363404, -0.01409375],\n",
              "       [-0.01410169, -0.00484739, -0.03559161, ..., -0.00965031,\n",
              "        -0.01968281, -0.00479819],\n",
              "       [-0.00482951,  0.02302454, -0.03284734, ...,  0.07435264,\n",
              "        -0.01001583,  0.0084028 ],\n",
              "       ...,\n",
              "       [ 0.00625404, -0.0046242 ,  0.00255108, ..., -0.05169593,\n",
              "        -0.02139724,  0.00959193],\n",
              "       [ 0.00596595,  0.02432365, -0.0105932 , ...,  0.0086915 ,\n",
              "        -0.0089897 ,  0.02464906],\n",
              "       [-0.02529442, -0.02497692, -0.0432545 , ...,  0.11252999,\n",
              "        -0.02023237,  0.06515407]], dtype=float32)"
            ]
          },
          "execution_count": 71,
          "metadata": {},
          "output_type": "execute_result"
        }
      ],
      "source": [
        "embeddings = model.encode(sentences)\n",
        "embeddings # each one represents a sentence; 678 dimensions"
      ]
    },
    {
      "cell_type": "code",
      "execution_count": 72,
      "metadata": {
        "id": "-JEYmdzV1neS"
      },
      "outputs": [
        {
          "data": {
            "text/plain": [
              "(7, 768)"
            ]
          },
          "execution_count": 72,
          "metadata": {},
          "output_type": "execute_result"
        }
      ],
      "source": [
        "embeddings.shape # check number of sentences and dimensions"
      ]
    },
    {
      "cell_type": "markdown",
      "metadata": {
        "id": "gQT0a38U1tQl"
      },
      "source": [
        "Semantic Textual Similarity (STS) - using cosine similarity function and numpy"
      ]
    },
    {
      "cell_type": "code",
      "execution_count": 73,
      "metadata": {
        "id": "mtJHz4LR1shH"
      },
      "outputs": [
        {
          "data": {
            "text/plain": [
              "array([[1.        , 0.        , 0.        , 0.        , 0.        ,\n",
              "        0.        , 0.        ],\n",
              "       [0.31266892, 0.99999994, 0.        , 0.        , 0.        ,\n",
              "        0.        , 0.        ],\n",
              "       [0.28315699, 0.36698055, 0.99999988, 0.        , 0.        ,\n",
              "        0.        , 0.        ],\n",
              "       [0.26562503, 0.2891764 , 0.61803079, 1.        , 0.        ,\n",
              "        0.        , 0.        ],\n",
              "       [0.40838629, 0.4600963 , 0.56413722, 0.4843204 , 1.        ,\n",
              "        0.        , 0.        ],\n",
              "       [0.32433492, 0.45362127, 0.67378139, 0.399928  , 0.74352133,\n",
              "        0.99999988, 0.        ],\n",
              "       [0.22933158, 0.3204667 , 0.52069461, 0.35208732, 0.43800336,\n",
              "        0.46124783, 1.00000012]])"
            ]
          },
          "execution_count": 73,
          "metadata": {},
          "output_type": "execute_result"
        }
      ],
      "source": [
        "import numpy as np\n",
        "from sentence_transformers.util import cos_sim\n",
        "\n",
        "# loop over all sentence embeddings we produced and compare them\n",
        "\n",
        "# Initialize a similarity matrix\n",
        "sim = np.zeros((len(sentences), len(sentences)))\n",
        "\n",
        "for i in range(len(sentences)):\n",
        "  sim[i:, i] = cos_sim(embeddings[i], embeddings[i:]) # populates our similarity array\n",
        "\n",
        "sim"
      ]
    },
    {
      "cell_type": "code",
      "execution_count": 74,
      "metadata": {
        "id": "OhL1rbsr21PJ"
      },
      "outputs": [
        {
          "data": {
            "text/plain": [
              "<Axes: >"
            ]
          },
          "execution_count": 74,
          "metadata": {},
          "output_type": "execute_result"
        },
        {
          "data": {
            "image/png": "[encoded data removed]",
            "text/plain": [
              "<Figure size 640x480 with 2 Axes>"
            ]
          },
          "metadata": {},
          "output_type": "display_data"
        }
      ],
      "source": [
        "#!pip install matplotlib\n",
        "#!pip install seaborn\n",
        "\n",
        "import matplotlib.pyplot as plt\n",
        "import seaborn as sns\n",
        "\n",
        "sns.heatmap(sim, annot=True) # Visual array; can see that the sentence values/positions align with the sentences; most similar pair will be high cosine sim"
      ]
    },
    {
      "cell_type": "code",
      "execution_count": 75,
      "metadata": {
        "id": "pwcDHWYM2_l_"
      },
      "outputs": [
        {
          "data": {
            "text/plain": [
              "['She has been seen at a mental_health facility since 1983 .',\n",
              " \"I didn't want to believe I had any mental_health issues and went into denial .\",\n",
              " 'The burden of mental_illness concentrates in 5-10 of the adolescent population.',\n",
              " 'Their rates of mental_illness are almost twice that of religious adolescents raised in religious households.',\n",
              " 'Stigma against people with mental_illness is a very complex public health problem.',\n",
              " 'Stigma associated with mental_illness is one of the major impediments in evolving effective treatment interventions to address the burden associated with these disorders.',\n",
              " 'Anorexia is a killer it has the highest mortality rate of any mental_illness , including depression .']"
            ]
          },
          "execution_count": 75,
          "metadata": {},
          "output_type": "execute_result"
        }
      ],
      "source": [
        "sentences"
      ]
    },
    {
      "cell_type": "markdown",
      "metadata": {
        "id": "cOsRUoIf3z-H"
      },
      "source": [
        "# Load all-mpnet-base-v2 model"
      ]
    },
    {
      "cell_type": "code",
      "execution_count": 76,
      "metadata": {
        "colab": {
          "base_uri": "https://localhost:8080/",
          "height": 686
        },
        "id": "SajUphnG3fQb",
        "outputId": "ef2fbf1b-85cb-4216-cfab-6c3ef8d8346f"
      },
      "outputs": [
        {
          "data": {
            "text/plain": [
              "SentenceTransformer(\n",
              "  (0): Transformer({'max_seq_length': 384, 'do_lower_case': False}) with Transformer model: MPNetModel \n",
              "  (1): Pooling({'word_embedding_dimension': 768, 'pooling_mode_cls_token': False, 'pooling_mode_mean_tokens': True, 'pooling_mode_max_tokens': False, 'pooling_mode_mean_sqrt_len_tokens': False, 'pooling_mode_weightedmean_tokens': False, 'pooling_mode_lasttoken': False, 'include_prompt': True})\n",
              "  (2): Normalize()\n",
              ")"
            ]
          },
          "execution_count": 76,
          "metadata": {},
          "output_type": "execute_result"
        }
      ],
      "source": [
        "from sentence_transformers import SentenceTransformer\n",
        "\n",
        "# model url: https://huggingface.co/sentence-transformers/all-mpnet-base-v2\n",
        "# model = SentenceTransformer('sentence-transformers/all-mpnet-base-v2') # max seq length = 3x as long; additional normalization function\n",
        "\n",
        "model = SentenceTransformer(\"all-mpnet-base-v2\")\n",
        "model"
      ]
    },
    {
      "cell_type": "code",
      "execution_count": 77,
      "metadata": {},
      "outputs": [
        {
          "data": {
            "text/plain": [
              "array([[ 0.02347014,  0.08728902, -0.00282084, ..., -0.02183038,\n",
              "        -0.05020836,  0.01668234],\n",
              "       [-0.01152247,  0.04449909, -0.01032269, ..., -0.02604869,\n",
              "        -0.02293562, -0.00034413],\n",
              "       [ 0.03385311, -0.00410318,  0.01448071, ..., -0.04863239,\n",
              "        -0.00865368, -0.03407342],\n",
              "       ...,\n",
              "       [ 0.00308681,  0.04524866, -0.00750326, ..., -0.01890598,\n",
              "        -0.03457134,  0.0174574 ],\n",
              "       [ 0.02491228,  0.02617718,  0.0127308 , ..., -0.03505536,\n",
              "        -0.04510719,  0.00398587],\n",
              "       [ 0.04807976,  0.06500247,  0.03684443, ..., -0.0619013 ,\n",
              "        -0.05130813, -0.01422677]], dtype=float32)"
            ]
          },
          "execution_count": 77,
          "metadata": {},
          "output_type": "execute_result"
        }
      ],
      "source": [
        "embeddings = model.encode(sentences)\n",
        "embeddings # each one represents a sentence; 768 dimensions"
      ]
    },
    {
      "cell_type": "code",
      "execution_count": 78,
      "metadata": {},
      "outputs": [
        {
          "data": {
            "text/plain": [
              "(7, 768)"
            ]
          },
          "execution_count": 78,
          "metadata": {},
          "output_type": "execute_result"
        }
      ],
      "source": [
        "embeddings.shape # check number of sentences and dimensions"
      ]
    },
    {
      "cell_type": "code",
      "execution_count": 79,
      "metadata": {
        "id": "CX1GUT4d4Nw6"
      },
      "outputs": [
        {
          "data": {
            "text/plain": [
              "array([[1.        , 0.        , 0.        , 0.        , 0.        ,\n",
              "        0.        , 0.        ],\n",
              "       [0.29678917, 1.00000012, 0.        , 0.        , 0.        ,\n",
              "        0.        , 0.        ],\n",
              "       [0.219675  , 0.39833292, 0.99999988, 0.        , 0.        ,\n",
              "        0.        , 0.        ],\n",
              "       [0.19783498, 0.27636078, 0.52739155, 1.        , 0.        ,\n",
              "        0.        , 0.        ],\n",
              "       [0.30066764, 0.47818935, 0.50661504, 0.44697571, 1.00000024,\n",
              "        0.        , 0.        ],\n",
              "       [0.29358912, 0.49549434, 0.54512751, 0.36615971, 0.82374036,\n",
              "        1.00000012, 0.        ],\n",
              "       [0.15024352, 0.32700288, 0.45583078, 0.31774992, 0.42526901,\n",
              "        0.43027142, 1.        ]])"
            ]
          },
          "execution_count": 79,
          "metadata": {},
          "output_type": "execute_result"
        }
      ],
      "source": [
        "import numpy as np\n",
        "from sentence_transformers.util import cos_sim\n",
        "\n",
        "# loop over all sentence embeddings we produced and compare them to\n",
        "# Initialize a similarity matrix\n",
        "sim = np.zeros((len(sentences), len(sentences)))\n",
        "\n",
        "for i in range(len(sentences)):\n",
        "  sim[i:, i] = cos_sim(embeddings[i], embeddings[i:]) # populates our similarity array\n",
        "\n",
        "sim"
      ]
    },
    {
      "cell_type": "code",
      "execution_count": 80,
      "metadata": {
        "id": "2GEMrqK94OXO"
      },
      "outputs": [
        {
          "data": {
            "text/plain": [
              "<Axes: >"
            ]
          },
          "execution_count": 80,
          "metadata": {},
          "output_type": "execute_result"
        },
        {
          "data": {
            "image/png": "[encoded data removed]",
            "text/plain": [
              "<Figure size 640x480 with 2 Axes>"
            ]
          },
          "metadata": {},
          "output_type": "display_data"
        }
      ],
      "source": [
        "import matplotlib.pyplot as plt\n",
        "import seaborn as sns\n",
        "\n",
        "sns.heatmap(sim, annot=True) # Visual array; can see that the sentence values/positions align with the sentences; most similar pair will be high cosine sim"
      ]
    },
    {
      "cell_type": "code",
      "execution_count": 81,
      "metadata": {
        "id": "fLHdJlgE33Jg"
      },
      "outputs": [
        {
          "data": {
            "text/plain": [
              "['She has been seen at a mental_health facility since 1983 .',\n",
              " \"I didn't want to believe I had any mental_health issues and went into denial .\",\n",
              " 'The burden of mental_illness concentrates in 5-10 of the adolescent population.',\n",
              " 'Their rates of mental_illness are almost twice that of religious adolescents raised in religious households.',\n",
              " 'Stigma against people with mental_illness is a very complex public health problem.',\n",
              " 'Stigma associated with mental_illness is one of the major impediments in evolving effective treatment interventions to address the burden associated with these disorders.',\n",
              " 'Anorexia is a killer it has the highest mortality rate of any mental_illness , including depression .']"
            ]
          },
          "execution_count": 81,
          "metadata": {},
          "output_type": "execute_result"
        }
      ],
      "source": [
        "sentences"
      ]
    },
    {
      "cell_type": "markdown",
      "metadata": {},
      "source": [
        "# Test #2 with the preferred model"
      ]
    },
    {
      "cell_type": "code",
      "execution_count": 82,
      "metadata": {},
      "outputs": [
        {
          "data": {
            "text/plain": [
              "['A dog was chasing the boy',\n",
              " 'The boy was chased by a dog',\n",
              " 'A cat was chasing the boy',\n",
              " 'chasing was dog a boy the',\n",
              " 'Anorexia is a killer as it has the highest mortality rate']"
            ]
          },
          "execution_count": 82,
          "metadata": {},
          "output_type": "execute_result"
        }
      ],
      "source": [
        "sentences = [\n",
        "\"A dog was chasing the boy\",\n",
        "\"The boy was chased by a dog\",\n",
        "\"A cat was chasing the boy\",\n",
        "\"chasing was dog a boy the\",\n",
        "\"Anorexia is a killer as it has the highest mortality rate\",\n",
        "]\n",
        "\n",
        "sentences"
      ]
    },
    {
      "cell_type": "code",
      "execution_count": 83,
      "metadata": {},
      "outputs": [
        {
          "data": {
            "text/plain": [
              "array([[ 1.00000012e+00,  0.00000000e+00,  0.00000000e+00,\n",
              "         0.00000000e+00,  0.00000000e+00],\n",
              "       [ 9.34279680e-01,  9.99999881e-01,  0.00000000e+00,\n",
              "         0.00000000e+00,  0.00000000e+00],\n",
              "       [ 6.81402802e-01,  6.23298824e-01,  1.00000000e+00,\n",
              "         0.00000000e+00,  0.00000000e+00],\n",
              "       [ 8.22268486e-01,  8.19023013e-01,  5.17928600e-01,\n",
              "         1.00000000e+00,  0.00000000e+00],\n",
              "       [-3.57592665e-03,  6.36979938e-04, -8.69250949e-03,\n",
              "         1.38728227e-02,  1.00000024e+00]])"
            ]
          },
          "execution_count": 83,
          "metadata": {},
          "output_type": "execute_result"
        }
      ],
      "source": [
        "embeddings = model.encode(sentences)\n",
        "#embeddings # each one represents a sentence; 768 dimensions\n",
        "\n",
        "import numpy as np\n",
        "from sentence_transformers.util import cos_sim\n",
        "\n",
        "# loop over all sentence embeddings we produced and compare them to\n",
        "# Initialize a similarity matrix\n",
        "sim = np.zeros((len(sentences), len(sentences)))\n",
        "\n",
        "for i in range(len(sentences)):\n",
        "  sim[i:, i] = cos_sim(embeddings[i], embeddings[i:]) # populates our similarity array\n",
        "\n",
        "sim"
      ]
    },
    {
      "cell_type": "code",
      "execution_count": 84,
      "metadata": {},
      "outputs": [
        {
          "data": {
            "text/plain": [
              "<Axes: >"
            ]
          },
          "execution_count": 84,
          "metadata": {},
          "output_type": "execute_result"
        },
        {
          "data": {
            "image/png": "[encoded data removed]",
            "text/plain": [
              "<Figure size 640x480 with 2 Axes>"
            ]
          },
          "metadata": {},
          "output_type": "display_data"
        }
      ],
      "source": [
        "import matplotlib.pyplot as plt\n",
        "import seaborn as sns\n",
        "\n",
        "sns.heatmap(sim, annot=True) # Visual array; can see that the sentence values/positions align with the sentences; most similar pair will be high cosine sim"
      ]
    },
    {
      "cell_type": "markdown",
      "metadata": {},
      "source": [
        "Analysis: //\n",
        "1+0=0.93: similar as expected despite syntax re-ordering //\n",
        "    The boy was chased by a dog //\n",
        "    A dog was chasing the boy //\n",
        "2+0=0.68: picks up on the fact that the focus is the \"cat/dog\" despite similar syntax organisation //\n",
        "    A cat was chasing the boy //\n",
        "    A dog was chasing the boy //\n",
        "2+1=0.62: picks up on the fact that the focus is the \"cat/dog\" is doing the chasing //\n",
        "    A cat was chasing the boy //\n",
        "    The boy was chased by a dog //\n",
        "3+0=0.82: WEIRD because the similarity score is 82% despite nonsensical sentence structure, so I am not sure what to make of it (?) //\n",
        "    chasing was dog a boy the //\n",
        "    A dog was chasing the boy //\n",
        "3+1=0.82: WEIRD because the similarity score is 82% despite nonsensical sentence structure, so I am not sure what to make of it (?) Maybe this is a good thing as it demonstrates the focus on semantics (even if it is only for a bag of words approach)? //\n",
        "    chasing was dog a boy the //\n",
        "    The boy was chased by a dog //\n",
        "3+2=0.52: Picks up on the cat/dog focus //\n",
        "    chasing was dog a boy the //\n",
        "    A cat was chasing the boy //\n",
        "4+0-3=dissimilar to the other sentences as would be expected //\n",
        "    Anorexia is a killer as it has the highest mortality rate //"
      ]
    }
  ],
  "metadata": {
    "colab": {
      "provenance": []
    },
    "kernelspec": {
      "display_name": "Python 3",
      "name": "python3"
    },
    "language_info": {
      "codemirror_mode": {
        "name": "ipython",
        "version": 3
      },
      "file_extension": ".py",
      "mimetype": "text/x-python",
      "name": "python",
      "nbconvert_exporter": "python",
      "pygments_lexer": "ipython3",
      "version": "3.11.4"
    }
  },
  "nbformat": 4,
  "nbformat_minor": 0
}
